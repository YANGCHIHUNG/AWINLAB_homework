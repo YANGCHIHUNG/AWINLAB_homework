{
 "cells": [
  {
   "cell_type": "code",
   "execution_count": 3,
   "metadata": {},
   "outputs": [],
   "source": [
    "import numpy as np\n",
    "import pandas as pd\n",
    "import random as rd\n",
    "from random import randint\n",
    "import matplotlib.pyplot as plt"
   ]
  },
  {
   "cell_type": "code",
   "execution_count": 4,
   "metadata": {},
   "outputs": [],
   "source": [
    "def init():   # 讀檔初始化函数\n",
    "\n",
    "    # the knapsack capacity.\n",
    "    file = open('p06_c.txt', 'r')\n",
    "    knapsack_threshold = int(file.read())\n",
    "    file.close()\n",
    "    \n",
    "    # the weights of the objects. \n",
    "    file = open('p06_w.txt', 'r')\n",
    "    for line in file.readlines():        \n",
    "        weight.append(int(line))\n",
    "    file.close\n",
    "\n",
    "    # the profits of each object.\n",
    "    file = open('p06_p.txt', 'r')\n",
    "    for line in file.readlines():        \n",
    "        value.append(int(line))\n",
    "    file.close\n",
    "    \n",
    "    return knapsack_threshold,value,weight"
   ]
  },
  {
   "cell_type": "code",
   "execution_count": 5,
   "metadata": {},
   "outputs": [
    {
     "name": "stdout",
     "output_type": "stream",
     "text": [
      "Population size = (50, 7)\n",
      "Initial population: \n",
      "[[0 0 1 0 1 0 0]\n",
      " [1 0 0 0 0 1 1]\n",
      " [1 1 1 0 1 0 0]\n",
      " [1 1 0 1 1 0 0]\n",
      " [0 1 1 0 0 0 0]\n",
      " [0 0 0 1 1 1 1]\n",
      " [1 1 0 1 1 1 1]\n",
      " [1 0 0 1 0 1 0]\n",
      " [1 0 1 1 1 0 1]\n",
      " [1 0 0 0 1 0 1]\n",
      " [0 1 0 1 0 0 1]\n",
      " [0 1 1 1 1 1 1]\n",
      " [0 0 1 0 1 1 0]\n",
      " [1 1 1 0 1 0 0]\n",
      " [1 1 1 1 1 0 0]\n",
      " [1 0 1 0 0 1 1]\n",
      " [0 0 0 1 1 0 0]\n",
      " [1 1 0 0 1 0 1]\n",
      " [0 0 0 0 0 0 0]\n",
      " [0 0 0 0 0 0 1]\n",
      " [0 0 1 1 0 1 1]\n",
      " [0 0 1 1 0 0 0]\n",
      " [1 1 1 0 1 0 1]\n",
      " [0 1 1 0 1 0 0]\n",
      " [0 0 1 1 0 0 1]\n",
      " [0 0 1 1 1 0 0]\n",
      " [1 1 0 0 0 1 1]\n",
      " [1 1 0 0 1 0 1]\n",
      " [1 0 1 1 1 0 1]\n",
      " [1 0 0 1 0 1 1]\n",
      " [1 1 1 0 0 1 1]\n",
      " [1 1 0 1 1 1 1]\n",
      " [1 1 1 0 0 1 1]\n",
      " [0 0 1 1 1 1 0]\n",
      " [0 1 0 0 1 1 0]\n",
      " [1 1 1 0 1 0 1]\n",
      " [0 1 1 1 0 1 1]\n",
      " [0 0 1 0 1 0 1]\n",
      " [0 0 1 0 1 1 0]\n",
      " [0 1 1 0 0 0 0]\n",
      " [1 0 0 1 0 1 1]\n",
      " [0 1 0 1 1 0 1]\n",
      " [1 1 1 1 0 1 1]\n",
      " [1 0 0 0 1 1 0]\n",
      " [1 0 0 0 1 0 1]\n",
      " [1 1 0 1 0 0 1]\n",
      " [1 0 0 0 1 1 0]\n",
      " [0 0 0 1 1 0 0]\n",
      " [1 0 0 1 1 1 1]\n",
      " [1 1 1 1 0 0 1]]\n"
     ]
    }
   ],
   "source": [
    "#設定初始參數\n",
    "solutions_per_pop = 50\n",
    "mutation_rate = 0.4\n",
    "crossover_rate = 0.8\n",
    "num_generations = 100\n",
    "\n",
    "item_number = np.arange(1,8)\n",
    "pop_size = (solutions_per_pop, item_number.shape[0])\n",
    "print('Population size = {}'.format(pop_size))\n",
    "initial_population = np.random.randint(2, size = pop_size)\n",
    "initial_population = initial_population.astype(int)\n",
    "print('Initial population: \\n{}'.format(initial_population))"
   ]
  },
  {
   "cell_type": "code",
   "execution_count": 6,
   "metadata": {},
   "outputs": [],
   "source": [
    "def cal_fitness(weight, value, population, threshold):\n",
    "    fitness = np.empty(population.shape[0])\n",
    "    for i in range(population.shape[0]):\n",
    "        S1 = np.sum(population[i] * value)\n",
    "        S2 = np.sum(population[i] * weight)\n",
    "        if S2 <= threshold:\n",
    "            fitness[i] = S1\n",
    "        else :\n",
    "            fitness[i] = 0 \n",
    "    return fitness.astype(int) "
   ]
  },
  {
   "cell_type": "code",
   "execution_count": 7,
   "metadata": {},
   "outputs": [],
   "source": [
    "#選擇出一組解，接著再進行兩兩交配。\n",
    "def selection(fitness, num_parents, population):\n",
    "    fitness = list(fitness)\n",
    "    parents = np.empty((num_parents, population.shape[1]))\n",
    "    for i in range(num_parents):\n",
    "        max_fitness_idx = np.where(fitness == np.max(fitness))\n",
    "        parents[i,:] = population[max_fitness_idx[0][0], :]\n",
    "        fitness[max_fitness_idx[0][0]] = -999999\n",
    "    return parents"
   ]
  },
  {
   "cell_type": "code",
   "execution_count": 8,
   "metadata": {},
   "outputs": [],
   "source": [
    "#將選出的那些解兩兩進行交配\n",
    "def crossover(parents, num_offsprings):\n",
    "    offsprings = np.empty((num_offsprings, parents.shape[1]))\n",
    "    crossover_point = int(parents.shape[1]/2)\n",
    "    i=0\n",
    "    while (parents.shape[0] < num_offsprings):\n",
    "        parent1_index = i%parents.shape[0]\n",
    "        parent2_index = (i+1)%parents.shape[0]\n",
    "        x = rd.random()\n",
    "        if x > crossover_rate:\n",
    "            continue\n",
    "        parent1_index = i%parents.shape[0]\n",
    "        parent2_index = (i+1)%parents.shape[0]\n",
    "        offsprings[i,0:crossover_point] = parents[parent1_index,0:crossover_point]\n",
    "        offsprings[i,crossover_point:] = parents[parent2_index,crossover_point:]\n",
    "        i=+1\n",
    "    return offsprings  "
   ]
  },
  {
   "cell_type": "code",
   "execution_count": 9,
   "metadata": {},
   "outputs": [],
   "source": [
    "#隨機選擇一些變數使得0變1、1變0\n",
    "def mutation(offsprings):\n",
    "    mutants = np.empty((offsprings.shape))\n",
    "    for i in range(mutants.shape[0]):\n",
    "        random_value = rd.random()\n",
    "        mutants[i,:] = offsprings[i,:]\n",
    "        if random_value > mutation_rate:\n",
    "            continue\n",
    "        int_random_value = randint(0,offsprings.shape[1]-1)    \n",
    "        if mutants[i,int_random_value] == 0 :\n",
    "            mutants[i,int_random_value] = 1\n",
    "        else :\n",
    "            mutants[i,int_random_value] = 0\n",
    "    return mutants "
   ]
  },
  {
   "cell_type": "code",
   "execution_count": 10,
   "metadata": {},
   "outputs": [],
   "source": [
    "def optimize(weight, value, population, pop_size, num_generations, threshold):\n",
    "    parameters, fitness_history = [], []\n",
    "    num_parents = int(pop_size[0]/2)\n",
    "    num_offsprings = pop_size[0] - num_parents \n",
    "    for i in range(num_generations):\n",
    "        fitness = cal_fitness(weight, value, population, threshold)\n",
    "        fitness_history.append(fitness)\n",
    "        parents = selection(fitness, num_parents, population)\n",
    "        offsprings = crossover(parents, num_offsprings)\n",
    "        mutants = mutation(offsprings)\n",
    "        population[0:parents.shape[0], :] = parents\n",
    "        population[parents.shape[0]:, :] = mutants\n",
    "        \n",
    "        \n",
    "    #print('Last generation: \\n{}\\n'.format(population)) \n",
    "    fitness_last_gen = cal_fitness(weight, value, population, threshold)      \n",
    "    #print('Fitness of the last generation: \\n{}\\n'.format(fitness_last_gen))\n",
    "    max_fitness = np.where(fitness_last_gen == np.max(fitness_last_gen))\n",
    "    parameters.append(population[max_fitness[0][0],:])\n",
    "    return parameters, fitness_history"
   ]
  },
  {
   "cell_type": "code",
   "execution_count": 11,
   "metadata": {},
   "outputs": [
    {
     "name": "stdout",
     "output_type": "stream",
     "text": [
      "knapsack_threshold: 170\n",
      "value: [442, 525, 511, 593, 546, 564, 617]\n",
      "weight: [41, 50, 49, 59, 55, 57, 60]\n",
      "item 數: 7\n",
      "\n",
      "The optimized parameters for the given inputs are: \n",
      "[array([          0,           0, -2147483648,           0,           0,\n",
      "                 0,    18874368])]\n",
      "\n",
      "Selected items that will maximize the knapsack without breaking it:\n"
     ]
    },
    {
     "name": "stderr",
     "output_type": "stream",
     "text": [
      "C:\\Users\\young\\AppData\\Local\\Temp\\ipykernel_15264\\2162538864.py:12: RuntimeWarning: invalid value encountered in cast\n",
      "  population[parents.shape[0]:, :] = mutants\n"
     ]
    }
   ],
   "source": [
    "\n",
    "weight = []\n",
    "value = []\n",
    "\n",
    "num_generations = 100\n",
    "\n",
    "knapsack_threshold, value, weight = init()\n",
    "\n",
    "print(\"knapsack_threshold:\", knapsack_threshold)\n",
    "print(\"value:\", value)\n",
    "print(\"weight:\",weight)\n",
    "\n",
    "\n",
    "item_number = len(weight) \n",
    "print(\"item 數:\",item_number)\n",
    "\n",
    "parameters, fitness_history = optimize(weight, value, initial_population, pop_size, num_generations, knapsack_threshold)\n",
    "print('\\nThe optimized parameters for the given inputs are: \\n{}'.format(parameters))\n",
    "selected_items = item_number * parameters\n",
    "\n",
    "print('\\nSelected items that will maximize the knapsack without breaking it:')\n",
    "\n",
    "cnt = 0\n",
    "\n",
    "for i in parameters[0]:\n",
    "    if(i == 1):\n",
    "      print(\"weight: {}, value: {}\". format(weight[cnt], value[cnt]))\n",
    "    cnt = cnt + 1\n",
    "\n",
    "\n"
   ]
  },
  {
   "cell_type": "code",
   "execution_count": 12,
   "metadata": {},
   "outputs": [
    {
     "data": {
      "image/png": "[encoded data removed]",
      "text/plain": [
       "<Figure size 640x480 with 1 Axes>"
      ]
     },
     "metadata": {},
     "output_type": "display_data"
    },
    {
     "name": "stdout",
     "output_type": "stream",
     "text": [
      "(100, 50)\n"
     ]
    }
   ],
   "source": [
    "#繪製收斂圖\n",
    "#fitness_history_mean = [np.mean(fitness) for fitness in fitness_history]\n",
    "fitness_history_max = [np.max(fitness) for fitness in fitness_history]\n",
    "#plt.plot(list(range(num_generations)), fitness_history_mean, label = 'Mean Fitness')\n",
    "plt.plot(list(range(num_generations)), fitness_history_max, label = 'Max Fitness')\n",
    "plt.legend()\n",
    "plt.title('Fitness through the generations')\n",
    "plt.xlabel('Generations')\n",
    "plt.ylabel('Fitness')\n",
    "plt.grid()\n",
    "plt.show()\n",
    "print(np.asarray(fitness_history).shape)"
   ]
  }
 ],
 "metadata": {
  "kernelspec": {
   "display_name": "Python 3",
   "language": "python",
   "name": "python3"
  },
  "language_info": {
   "codemirror_mode": {
    "name": "ipython",
    "version": 3
   },
   "file_extension": ".py",
   "mimetype": "text/x-python",
   "name": "python",
   "nbconvert_exporter": "python",
   "pygments_lexer": "ipython3",
   "version": "3.11.6"
  }
 },
 "nbformat": 4,
 "nbformat_minor": 2
}
